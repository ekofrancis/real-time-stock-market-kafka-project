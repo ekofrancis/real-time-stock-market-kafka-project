{
 "cells": [
  {
   "cell_type": "code",
   "execution_count": null,
   "id": "3f76fbb7-ab1c-460b-89c0-21352408bec4",
   "metadata": {},
   "outputs": [],
   "source": [
    "pip install kafka-python"
   ]
  },
  {
   "cell_type": "code",
   "execution_count": null,
   "id": "a5f12699-22bd-456e-9da4-37d5173e674a",
   "metadata": {},
   "outputs": [],
   "source": [
    "import pandas as pd\n",
    "from kafka import KafkaProducer\n",
    "from time import sleep\n",
    "from json import dumps\n",
    "import json"
   ]
  },
  {
   "cell_type": "code",
   "execution_count": null,
   "id": "4b606bbb-b18b-4f64-9774-4c44ee11089d",
   "metadata": {},
   "outputs": [],
   "source": [
    "# Initialize kafka producer\n",
    "producer = KafkaProducer(\n",
    "    bootstrap_servers = 'localhost:9092',\n",
    "    value_serializer = lambda v: json.dumps(v).encode('utf-8')\n",
    ")"
   ]
  },
  {
   "cell_type": "code",
   "execution_count": null,
   "id": "9708ac5e-2502-4cc5-8353-c925d64bccd7",
   "metadata": {},
   "outputs": [],
   "source": [
    "# read the csv file\n",
    "df = pd.read_csv('/mnt/c/Users/5ran6/Desktop/Projects/real-time-stock-market-kafka-project/indexProcessed.csv')"
   ]
  },
  {
   "cell_type": "code",
   "execution_count": null,
   "id": "74d6a769-3158-4116-a4b3-1448924548eb",
   "metadata": {},
   "outputs": [],
   "source": [
    "df.head()"
   ]
  },
  {
   "cell_type": "code",
   "execution_count": null,
   "id": "156dd3ef-7e64-4997-aaae-dcf885ea96fa",
   "metadata": {},
   "outputs": [],
   "source": [
    "while True:\n",
    "    dict_stock = df.sample(1).to_dict(orient=\"records\")[0]\n",
    "    producer.send('stock-prices', value=dict_stock)\n",
    "    sleep(1)"
   ]
  },
  {
   "cell_type": "code",
   "execution_count": null,
   "id": "501c7c5f-03a0-452c-9c3d-feae45044d2c",
   "metadata": {},
   "outputs": [],
   "source": []
  },
  {
   "cell_type": "code",
   "execution_count": null,
   "id": "86840ead-d0f7-4796-8fa1-0d094646f69a",
   "metadata": {},
   "outputs": [],
   "source": []
  },
  {
   "cell_type": "code",
   "execution_count": null,
   "id": "57a6bd07-2c36-40d5-baa7-1fa67ab73b77",
   "metadata": {},
   "outputs": [],
   "source": []
  }
 ],
 "metadata": {
  "kernelspec": {
   "display_name": "Python 3 (ipykernel)",
   "language": "python",
   "name": "python3"
  },
  "language_info": {
   "codemirror_mode": {
    "name": "ipython",
    "version": 3
   },
   "file_extension": ".py",
   "mimetype": "text/x-python",
   "name": "python",
   "nbconvert_exporter": "python",
   "pygments_lexer": "ipython3",
   "version": "3.10.12"
  }
 },
 "nbformat": 4,
 "nbformat_minor": 5
}
