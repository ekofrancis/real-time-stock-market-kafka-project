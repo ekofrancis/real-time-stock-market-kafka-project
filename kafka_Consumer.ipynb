{
 "cells": [
  {
   "cell_type": "code",
   "execution_count": 93,
   "id": "6c89ff12-3cbe-4843-9b53-835b444c24e0",
   "metadata": {},
   "outputs": [],
   "source": [
    "from kafka import KafkaConsumer\n",
    "import logging"
   ]
  },
  {
   "cell_type": "code",
   "execution_count": null,
   "id": "69f7463c-af65-42ec-8fba-14043e9d7c20",
   "metadata": {},
   "outputs": [],
   "source": [
    "# Kafka broker and topic configuration\n",
    "bootstrap_servers ='localhost:9092'\n",
    "topic ='stock-prices'"
   ]
  },
  {
   "cell_type": "code",
   "execution_count": null,
   "id": "8090dffa-4c32-4201-8900-df96790631bd",
   "metadata": {},
   "outputs": [],
   "source": [
    "# create kafka Consumer\n",
    "consumer = KafkaConsumer(\n",
    "    topic,\n",
    "    bootstrap_servers=bootstrap_servers,\n",
    "    auto_offset_reset='earliest', # Read from the beginning of the topic\n",
    "    enable_auto_commit=True, # Commit offsets automatically\n",
    "    group_id='my-group', # Consumer group ID\n",
    "    value_deserializer=lambda x: x.decode('utf-8') # Decode message value as UTF-8\n",
    ")\n",
    "\n",
    "# consumer message from kafka\n",
    "for message in consumer:\n",
    "    print(F\"Received message: {message.value}\")"
   ]
  },
  {
   "cell_type": "code",
   "execution_count": null,
   "id": "b8ca18bb-7089-4d98-a63d-704237e41f66",
   "metadata": {},
   "outputs": [],
   "source": []
  }
 ],
 "metadata": {
  "kernelspec": {
   "display_name": "Python 3 (ipykernel)",
   "language": "python",
   "name": "python3"
  },
  "language_info": {
   "codemirror_mode": {
    "name": "ipython",
    "version": 3
   },
   "file_extension": ".py",
   "mimetype": "text/x-python",
   "name": "python",
   "nbconvert_exporter": "python",
   "pygments_lexer": "ipython3",
   "version": "3.10.12"
  }
 },
 "nbformat": 4,
 "nbformat_minor": 5
}
